{
 "cells": [
  {
   "cell_type": "code",
   "execution_count": 0,
   "metadata": {
    "colab": {
     "autoexec": {
      "startup": false,
      "wait_interval": 0
     }
    },
    "colab_type": "code",
    "id": "4z3pVVMk6fW6"
   },
   "outputs": [],
   "source": [
    "import numpy as np\n",
    "import matplotlib.pyplot as plt\n",
    "import math\n",
    "import copy"
   ]
  },
  {
   "cell_type": "code",
   "execution_count": 0,
   "metadata": {
    "colab": {
     "autoexec": {
      "startup": false,
      "wait_interval": 0
     }
    },
    "colab_type": "code",
    "id": "ffDCLgce6fW-"
   },
   "outputs": [],
   "source": [
    "G=9.8\n",
    "M=1\n",
    "sin=np.sin\n",
    "cos=np.cos\n",
    "atan2=math.atan2\n",
    "pi=np.pi\n",
    "I=10.\n",
    "T=0.1\n",
    "STEPS=10000"
   ]
  },
  {
   "cell_type": "code",
   "execution_count": 0,
   "metadata": {
    "colab": {
     "autoexec": {
      "startup": false,
      "wait_interval": 0
     }
    },
    "colab_type": "code",
    "id": "OXhG6V3w6fXC"
   },
   "outputs": [],
   "source": [
    "def Rot(x,y,z):\n",
    "    cx=cos(x)\n",
    "    cy=cos(y)\n",
    "    cz=cos(z)\n",
    "    sx=sin(x)\n",
    "    sy=sin(y)\n",
    "    sz=sin(z)\n",
    "    rot_m=np.array([[cz*cy, cz*sy*sx - sz*cx, cz*sy*cx + sz*sx], [sz*cy, sz*sy*sx + cz*cx, sz*sy*cx - sx*cz], [-sy, cy*sx, cy*cx]])\n",
    "    return rot_m"
   ]
  },
  {
   "cell_type": "code",
   "execution_count": 4,
   "metadata": {
    "colab": {
     "autoexec": {
      "startup": false,
      "wait_interval": 0
     },
     "base_uri": "https://localhost:8080/",
     "height": 68,
     "output_extras": [
      {
       "item_id": 1
      }
     ]
    },
    "colab_type": "code",
    "executionInfo": {
     "elapsed": 506,
     "status": "ok",
     "timestamp": 1517870947972,
     "user": {
      "displayName": "Norman Di Palo",
      "photoUrl": "//lh5.googleusercontent.com/-hwpkiYzSctg/AAAAAAAAAAI/AAAAAAAAAkg/I59DXttMdKw/s50-c-k-no/photo.jpg",
      "userId": "109405231849327541723"
     },
     "user_tz": -60
    },
    "id": "ta0iFeE36fXJ",
    "outputId": "c0eb5884-625b-412e-d85c-27917758adb7"
   },
   "outputs": [
    {
     "data": {
      "text/plain": [
       "array([[ 6.123234e-17, -1.000000e+00,  0.000000e+00],\n",
       "       [ 1.000000e+00,  6.123234e-17,  0.000000e+00],\n",
       "       [-0.000000e+00,  0.000000e+00,  1.000000e+00]])"
      ]
     },
     "execution_count": 4,
     "metadata": {
      "tags": []
     },
     "output_type": "execute_result"
    }
   ],
   "source": [
    "Rot(0,0,pi/2)"
   ]
  },
  {
   "cell_type": "code",
   "execution_count": 0,
   "metadata": {
    "colab": {
     "autoexec": {
      "startup": false,
      "wait_interval": 0
     }
    },
    "colab_type": "code",
    "id": "88mb_7xK6fXR"
   },
   "outputs": [],
   "source": [
    "def dyn_model(state, inp):\n",
    "    #x y z xd yd zy angx angy angz angxd angyd angzd\n",
    "    state=np.asarray(state, dtype=\"float64\")\n",
    "    inp=np.asarray(inp, dtype=\"float64\")\n",
    "    assert len(state)==12\n",
    "    assert len(inp)==4\n",
    "    new_state=state\n",
    "    #start with adding the velocity and gravity\n",
    "    new_state[:6]+=np.array([state[3],state[4],state[5],0,0,-G])*T #lin pos and vel\n",
    "    new_state[6:9]+=np.array([state[9], state[10], state[11]])*T  #ang pos and vel\n",
    "    thrust=Rot(state[6],state[7],state[8])@np.array([0,0,inp[0]])  #calculate the rotated thrust\n",
    "    #add input contribution\n",
    "    new_state[3]+=(1/M)*thrust[0]*T #adding linear input to velocities\n",
    "    new_state[4]+=(1/M)*thrust[1]*T\n",
    "    new_state[5]+=(1/M)*thrust[2]*T\n",
    "    new_state[9]+=(1/I)*inp[1]\n",
    "    new_state[10]+=(1/I)*inp[2]\n",
    "    new_state[11]+=(1/I)*inp[3]\n",
    "    return new_state"
   ]
  },
  {
   "cell_type": "code",
   "execution_count": 6,
   "metadata": {
    "colab": {
     "autoexec": {
      "startup": false,
      "wait_interval": 0
     },
     "base_uri": "https://localhost:8080/",
     "height": 34,
     "output_extras": [
      {
       "item_id": 1
      }
     ]
    },
    "colab_type": "code",
    "executionInfo": {
     "elapsed": 585,
     "status": "ok",
     "timestamp": 1517870949485,
     "user": {
      "displayName": "Norman Di Palo",
      "photoUrl": "//lh5.googleusercontent.com/-hwpkiYzSctg/AAAAAAAAAAI/AAAAAAAAAkg/I59DXttMdKw/s50-c-k-no/photo.jpg",
      "userId": "109405231849327541723"
     },
     "user_tz": -60
    },
    "id": "1ya6T5ja6fXV",
    "outputId": "d35390da-920c-4dc5-ca9d-524bfaa76f7a"
   },
   "outputs": [
    {
     "name": "stdout",
     "output_type": "stream",
     "text": [
      "[0.   0.   0.   0.   0.   0.   0.   0.   0.   0.01 0.   0.  ]\n"
     ]
    }
   ],
   "source": [
    "state=[0,0,0,0,0,0,0,0,0,0,0,0]\n",
    "inp=[9.8,0.1,0,0]\n",
    "state=dyn_model(state,inp)\n",
    "print(state)"
   ]
  },
  {
   "cell_type": "code",
   "execution_count": 7,
   "metadata": {
    "colab": {
     "autoexec": {
      "startup": false,
      "wait_interval": 0
     },
     "base_uri": "https://localhost:8080/",
     "height": 677,
     "output_extras": [
      {
       "item_id": 1
      },
      {
       "item_id": 2
      }
     ]
    },
    "colab_type": "code",
    "executionInfo": {
     "elapsed": 964,
     "status": "ok",
     "timestamp": 1517870950618,
     "user": {
      "displayName": "Norman Di Palo",
      "photoUrl": "//lh5.googleusercontent.com/-hwpkiYzSctg/AAAAAAAAAAI/AAAAAAAAAkg/I59DXttMdKw/s50-c-k-no/photo.jpg",
      "userId": "109405231849327541723"
     },
     "user_tz": -60
    },
    "id": "r-bbQNkL6fXc",
    "outputId": "06ea7368-e6f8-492f-f16c-bf4bf3968060"
   },
   "outputs": [
    {
     "data": {
      "image/png": "[encoded data removed]",
      "text/plain": [
       "<matplotlib.figure.Figure at 0x7f3542ab6cc0>"
      ]
     },
     "metadata": {
      "tags": []
     },
     "output_type": "display_data"
    },
    {
     "data": {
      "image/png": "[encoded data removed]",
      "text/plain": [
       "<matplotlib.figure.Figure at 0x7f35429b0f60>"
      ]
     },
     "metadata": {
      "tags": []
     },
     "output_type": "display_data"
    }
   ],
   "source": [
    "d_y=[]\n",
    "for i in range(STEPS):\n",
    "    d_y.append(sin(2*np.pi*2*i/STEPS))\n",
    "plt.plot(d_y)\n",
    "plt.show()\n",
    "\n",
    "d_yd=[]\n",
    "for i in range(STEPS):\n",
    "    d_yd.append(cos(2*np.pi*2*i/STEPS))\n",
    "plt.plot(d_yd)\n",
    "plt.show()"
   ]
  },
  {
   "cell_type": "markdown",
   "metadata": {
    "colab_type": "text",
    "id": "iue_PJPH6fXh"
   },
   "source": [
    "# 1D Traj Following"
   ]
  },
  {
   "cell_type": "code",
   "execution_count": 8,
   "metadata": {
    "colab": {
     "autoexec": {
      "startup": false,
      "wait_interval": 0
     },
     "base_uri": "https://localhost:8080/",
     "height": 347,
     "output_extras": [
      {
       "item_id": 1
      }
     ]
    },
    "colab_type": "code",
    "executionInfo": {
     "elapsed": 1594,
     "status": "ok",
     "timestamp": 1517870952401,
     "user": {
      "displayName": "Norman Di Palo",
      "photoUrl": "//lh5.googleusercontent.com/-hwpkiYzSctg/AAAAAAAAAAI/AAAAAAAAAkg/I59DXttMdKw/s50-c-k-no/photo.jpg",
      "userId": "109405231849327541723"
     },
     "user_tz": -60
    },
    "id": "rXfnQctO6fXi",
    "outputId": "b845f5c0-7686-4e0c-a468-ca0b9d46163a"
   },
   "outputs": [
    {
     "data": {
      "image/png": "[encoded data removed]",
      "text/plain": [
       "<matplotlib.figure.Figure at 0x7f3542a47d68>"
      ]
     },
     "metadata": {
      "tags": []
     },
     "output_type": "display_data"
    }
   ],
   "source": [
    "state=np.zeros(12, dtype=\"float64\")\n",
    "history=[]\n",
    "for t in range(STEPS):\n",
    "    \n",
    "    inp=np.array([0.,0.,0.,0.])\n",
    "    inp[0]+=9.8\n",
    "    inp[0]+=10*(d_y[t]-state[2])+2*(d_yd[t]-state[5])\n",
    "  #  print(\"desired state {} actual state {} input: {}\".format(d_y[t],state[2],inp[0]-9.8))\n",
    "    state=dyn_model(state,inp)\n",
    "    history.append(state[2])\n",
    "history=np.asarray(history)\n",
    "plt.plot(history)\n",
    "plt.plot(d_y)\n",
    "plt.show()"
   ]
  },
  {
   "cell_type": "markdown",
   "metadata": {
    "colab_type": "text",
    "id": "HqgdG4jE6fXn"
   },
   "source": [
    "# 2D Regulation"
   ]
  },
  {
   "cell_type": "code",
   "execution_count": 9,
   "metadata": {
    "colab": {
     "autoexec": {
      "startup": false,
      "wait_interval": 0
     },
     "base_uri": "https://localhost:8080/",
     "height": 347,
     "output_extras": [
      {
       "item_id": 1
      }
     ]
    },
    "colab_type": "code",
    "executionInfo": {
     "elapsed": 1201,
     "status": "ok",
     "timestamp": 1517870953712,
     "user": {
      "displayName": "Norman Di Palo",
      "photoUrl": "//lh5.googleusercontent.com/-hwpkiYzSctg/AAAAAAAAAAI/AAAAAAAAAkg/I59DXttMdKw/s50-c-k-no/photo.jpg",
      "userId": "109405231849327541723"
     },
     "user_tz": -60
    },
    "id": "PkFYjuWQ6fXo",
    "outputId": "9b67755d-9775-425a-b2a5-b5100447bb3c"
   },
   "outputs": [
    {
     "data": {
      "image/png": "[encoded data removed]",
      "text/plain": [
       "<matplotlib.figure.Figure at 0x7f354094f6d8>"
      ]
     },
     "metadata": {
      "tags": []
     },
     "output_type": "display_data"
    }
   ],
   "source": [
    "state=[0.,0.,0.,0.,0.,0.,0.,0.,0.,0.,0.,0.]\n",
    "history_x=[]\n",
    "history_y=[]\n",
    "d_z=5\n",
    "d_zd=0.\n",
    "d_y=10.\n",
    "d_yd=0.\n",
    "goals=[]\n",
    "time=[]\n",
    "for t in range(STEPS):\n",
    "    time.append(t)\n",
    "    inp=np.array([0.,0.,0.,0.])\n",
    "    d_phi=(0.05*(d_yd-state[3]) + 0.001*(d_y-state[0]))/G  #PD x che trova angolo\n",
    " \n",
    "  #  print(\"d phi\",d_phi)\n",
    "   \n",
    "    inp[2]=0.01*(d_phi-state[7]) + 0.05*(-state[10]) + 0.2*(-state[7])  #PD ANGOLO\n",
    " #   print(\"angular input\",inp[2])\n",
    " #   print(\"angle\", state[7])\n",
    "    \n",
    "    inp[0]=(G + 0.1*(-state[5]) + 0.5*(d_z - state[2])) #PD z, 0.5 and 0.5 gives great performance on both axis\n",
    "    state=dyn_model(state,inp)\n",
    " #   print(\"state\",state[:3])\n",
    "    history_x.append(state[0])\n",
    "    history_y.append(state[2])\n",
    "    \"\"\"if t is not 0 and t % 5000 == 0:\n",
    "        goals.append((d_x,d_y))\n",
    "        plt.scatter(d_x,d_y, color=\"red\")\n",
    "     #   d_x += np.random.rand()*10 - 5\n",
    "     #   d_y += np.random.rand()*10 - 5\n",
    "        d_x= 10*cos(2*np.pi*t/200000)\n",
    "        d_y= 10*sin(2*np.pi*t/200000)\n",
    "    \"\"\"\n",
    "#plt.plot(history_x)\n",
    "#plt.plot(history_y)\n",
    "#plt.plot(d_x, d_y)\n",
    "#plt.show()\n",
    "plt.plot(history_x,history_y)\n",
    "plt.show()"
   ]
  },
  {
   "cell_type": "markdown",
   "metadata": {
    "colab_type": "text",
    "id": "JsQRm_Pp6fXu"
   },
   "source": [
    "# 2D Trajectory tracking with sequential regulation. 1 lap."
   ]
  },
  {
   "cell_type": "code",
   "execution_count": 10,
   "metadata": {
    "colab": {
     "autoexec": {
      "startup": false,
      "wait_interval": 0
     },
     "base_uri": "https://localhost:8080/",
     "height": 347,
     "output_extras": [
      {
       "item_id": 1
      }
     ]
    },
    "colab_type": "code",
    "executionInfo": {
     "elapsed": 3251,
     "status": "ok",
     "timestamp": 1517870957129,
     "user": {
      "displayName": "Norman Di Palo",
      "photoUrl": "//lh5.googleusercontent.com/-hwpkiYzSctg/AAAAAAAAAAI/AAAAAAAAAkg/I59DXttMdKw/s50-c-k-no/photo.jpg",
      "userId": "109405231849327541723"
     },
     "user_tz": -60
    },
    "id": "dHHAF9Xj6fXv",
    "outputId": "c572a1dd-a741-4a01-c409-c4584848d276"
   },
   "outputs": [
    {
     "data": {
      "image/png": "[encoded data removed]",
      "text/plain": [
       "<matplotlib.figure.Figure at 0x7f3540857fd0>"
      ]
     },
     "metadata": {
      "tags": []
     },
     "output_type": "display_data"
    }
   ],
   "source": [
    "state=[0.,0.,0.,0.,0.,0.,0.,0.,0.,0.,0.,0.]\n",
    "history_x=[]\n",
    "history_y=[]\n",
    "d_z=0\n",
    "d_zd=0.\n",
    "d_y=10.\n",
    "d_yd=0.\n",
    "goals=[]\n",
    "LAPS=1\n",
    "for t in range(4*STEPS):\n",
    "    time.append(t)\n",
    "    inp=np.array([0.,0.,0.,0.])\n",
    "    d_phi=(0.05*(d_yd-state[3]) + 0.001*(d_y-state[0]))/G  #PD x che trova angolo\n",
    " \n",
    "  #  print(\"d phi\",d_phi)\n",
    "   \n",
    "    inp[2]=0.01*(d_phi-state[7]) + 0.05*(-state[10]) + 0.2*(-state[7])  #PD ANGOLO\n",
    " #   print(\"angular input\",inp[2])\n",
    " #   print(\"angle\", state[7])\n",
    "    \n",
    "    inp[0]=(G + 0.1*(-state[5]) + 0.1*(d_z - state[2])) #PD z, 0.5 and 0.5 gives great performance on both axis\n",
    "    state=dyn_model(state,inp)\n",
    " #   print(\"state\",state[:3])\n",
    "    history_x.append(state[0])\n",
    "    history_y.append(state[2])\n",
    "    if t is not 0 and t % 500 == 0:\n",
    "        goals.append((d_y,d_z))\n",
    "        plt.scatter(d_y,d_z, color=\"red\")\n",
    "     #   d_x += np.random.rand()*10 - 5\n",
    "     #   d_y += np.random.rand()*10 - 5\n",
    "        d_y= 10*cos(2*np.pi*t/(2*LAPS*20000))\n",
    "        d_z= 10*sin(2*np.pi*t/(2*LAPS*20000))\n",
    "    \n",
    "#plt.plot(history_x)\n",
    "#plt.plot(history_y)\n",
    "#plt.plot(d_x, d_y)\n",
    "#plt.show()\n",
    "plt.plot(history_x,history_y)\n",
    "plt.show()"
   ]
  },
  {
   "cell_type": "markdown",
   "metadata": {
    "colab_type": "text",
    "id": "FTqO_z9a6fX2"
   },
   "source": [
    "# 3D regulation."
   ]
  },
  {
   "cell_type": "code",
   "execution_count": 11,
   "metadata": {
    "colab": {
     "autoexec": {
      "startup": false,
      "wait_interval": 0
     },
     "base_uri": "https://localhost:8080/",
     "height": 330,
     "output_extras": [
      {
       "item_id": 1
      }
     ]
    },
    "colab_type": "code",
    "executionInfo": {
     "elapsed": 2303,
     "status": "ok",
     "timestamp": 1517870959479,
     "user": {
      "displayName": "Norman Di Palo",
      "photoUrl": "//lh5.googleusercontent.com/-hwpkiYzSctg/AAAAAAAAAAI/AAAAAAAAAkg/I59DXttMdKw/s50-c-k-no/photo.jpg",
      "userId": "109405231849327541723"
     },
     "user_tz": -60
    },
    "id": "CGK-AFF_6fX3",
    "outputId": "75b50bab-663f-494d-fdfa-246906b2b056"
   },
   "outputs": [
    {
     "data": {
      "image/png": "[encoded data removed]",
      "text/plain": [
       "<matplotlib.figure.Figure at 0x7f3540434470>"
      ]
     },
     "metadata": {
      "tags": []
     },
     "output_type": "display_data"
    }
   ],
   "source": [
    "import matplotlib as mpl\n",
    "from mpl_toolkits.mplot3d import Axes3D\n",
    "\n",
    "\n",
    "mpl.rcParams['legend.fontsize'] = 10\n",
    "\n",
    "fig = plt.figure()\n",
    "ax = fig.gca(projection='3d')\n",
    "\n",
    "state=[0.,0.,0.,0.,0.,0.,0.,0.,0.,0.,0.,0.]\n",
    "history_x=[]\n",
    "history_y=[]\n",
    "history_z=[]\n",
    "d_z=5\n",
    "d_zd=0.\n",
    "d_x=2.\n",
    "d_xd=0.\n",
    "d_y=3.\n",
    "d_yd=0.\n",
    "goals=[]\n",
    "time=[]\n",
    "for t in range(2*STEPS):\n",
    "    time.append(t)\n",
    "    inp=np.array([0.,0.,0.,0.])\n",
    "    d_phi=(0.05*(d_xd-state[3]) + 0.001*(d_x-state[0]))/G  #PD x che trova angolo\n",
    "    d_theta=(0.05*(d_yd-state[4]) + 0.001*(d_y-state[1]))/G\n",
    "  #  print(\"d phi\",d_phi)\n",
    "   \n",
    "    inp[2]=0.01*(d_phi-state[7]) + 0.05*(-state[10]) + 0.2*(-state[7])  #PD ANGOLO y per muovere x\n",
    "    inp[1]=-0.01*(d_theta-state[6]) + 0.05*(-state[9]) + 0.2*(-state[6])  #PD ANGOLO x per muovere y. Cambio segno: angolo x positivo muove y neg\n",
    " #   print(\"angular input\",inp[2])\n",
    " #   print(\"angle\", state[7])\n",
    "    \n",
    "    inp[0]=(G + 0.01*(-state[5]) + 0.05*(d_z - state[2])) #PD z, 0.5 and 0.5 gives great performance on both axis\n",
    "    state=dyn_model(state,inp)\n",
    " #   print(\"state\",state[:3])\n",
    "    history_x.append(state[0])\n",
    "    history_y.append(state[1])\n",
    "    history_z.append(state[2])\n",
    "    \"\"\"if t is not 0 and t % 5000 == 0:\n",
    "        goals.append((d_x,d_y))\n",
    "        plt.scatter(d_x,d_y, color=\"red\")\n",
    "     #   d_x += np.random.rand()*10 - 5\n",
    "     #   d_y += np.random.rand()*10 - 5\n",
    "        d_x= 10*cos(2*np.pi*t/200000)\n",
    "        d_y= 10*sin(2*np.pi*t/200000)\n",
    "    \"\"\"\n",
    "#plt.plot(history_x)\n",
    "#plt.plot(history_y)\n",
    "#plt.plot(d_x, d_y)\n",
    "#plt.show()\n",
    "\"\"\"\n",
    "plt.plot(history_x,history_y)\n",
    "plt.show()\n",
    "plt.plot(history_x,history_z)\n",
    "plt.show()\n",
    "plt.plot(history_y,history_z)\n",
    "plt.show()\"\"\"\n",
    "ax.plot(history_x, history_y, history_z, label='parametric curve')\n",
    "ax.legend()\n",
    "plt.show()"
   ]
  },
  {
   "cell_type": "markdown",
   "metadata": {
    "colab_type": "text",
    "id": "rK4Ino1d6fX-"
   },
   "source": [
    "# 3D traj track as regulation."
   ]
  },
  {
   "cell_type": "code",
   "execution_count": 12,
   "metadata": {
    "colab": {
     "autoexec": {
      "startup": false,
      "wait_interval": 0
     },
     "base_uri": "https://localhost:8080/",
     "height": 330,
     "output_extras": [
      {
       "item_id": 1
      }
     ]
    },
    "colab_type": "code",
    "executionInfo": {
     "elapsed": 8885,
     "status": "ok",
     "timestamp": 1517870968407,
     "user": {
      "displayName": "Norman Di Palo",
      "photoUrl": "//lh5.googleusercontent.com/-hwpkiYzSctg/AAAAAAAAAAI/AAAAAAAAAkg/I59DXttMdKw/s50-c-k-no/photo.jpg",
      "userId": "109405231849327541723"
     },
     "user_tz": -60
    },
    "id": "ip5Rgwa-6fX_",
    "outputId": "27070abe-f157-4b37-c615-9c646ef038fc"
   },
   "outputs": [
    {
     "data": {
      "image/png": "[encoded data removed]",
      "text/plain": [
       "<matplotlib.figure.Figure at 0x7f35406e9400>"
      ]
     },
     "metadata": {
      "tags": []
     },
     "output_type": "display_data"
    }
   ],
   "source": [
    "import matplotlib as mpl\n",
    "from mpl_toolkits.mplot3d import Axes3D\n",
    "\n",
    "\n",
    "mpl.rcParams['legend.fontsize'] = 10\n",
    "\n",
    "fig = plt.figure()\n",
    "ax = fig.gca(projection='3d')\n",
    "\n",
    "state=[0.,0.,0.,0.,0.,0.,0.,0.,0.,0.,0.,0.]\n",
    "history_x=[]\n",
    "history_y=[]\n",
    "history_z=[]\n",
    "d_z=0\n",
    "d_zd=0.\n",
    "d_x=10.\n",
    "d_xd=0.\n",
    "d_y=0.\n",
    "d_yd=0.\n",
    "goals=[]\n",
    "time=[]\n",
    "for t in range(10*STEPS):\n",
    "    time.append(t)\n",
    "    inp=np.array([0.,0.,0.,0.])\n",
    "    d_phi=(0.05*(d_xd-state[3]) + 0.001*(d_x-state[0]))/G  #PD x che trova angolo\n",
    "    d_theta=(0.05*(d_yd-state[4]) + 0.001*(d_y-state[1]))/G\n",
    "  #  print(\"d phi\",d_phi)\n",
    "   \n",
    "    inp[2]=0.01*(d_phi-state[7]) + 0.05*(-state[10]) + 0.2*(-state[7])  #PD ANGOLO y per muovere x\n",
    "    inp[1]=-0.01*(d_theta-state[6]) + 0.05*(-state[9]) + 0.2*(-state[6])  #PD ANGOLO x per muovere y. Cambio segno: angolo x positivo muove y neg\n",
    " #   print(\"angular input\",inp[2])\n",
    " #   print(\"angle\", state[7])\n",
    "    \n",
    "    inp[0]=(G + 0.01*(-state[5]) + 0.05*(d_z - state[2])) #PD z, 0.5 and 0.5 gives great performance on both axis\n",
    "    state=dyn_model(state,inp)\n",
    " #   print(\"state\",state[:3])\n",
    "    history_x.append(state[0])\n",
    "    history_y.append(state[1])\n",
    "    history_z.append(state[2])\n",
    "    if t is not 0 and t % 200 == 0:\n",
    "        goals.append((d_x,d_y))\n",
    "        ax.scatter(d_x,d_y, d_z, s=1, color=\"red\")\n",
    "     #   d_x += np.random.rand()*10 - 5\n",
    "     #   d_y += np.random.rand()*10 - 5\n",
    "        d_x= 10*cos(2*np.pi*t/(5*STEPS))\n",
    "        d_y= 10*sin(2*np.pi*t/(5*STEPS))\n",
    "        d_z+=10\n",
    "#plt.plot(history_x)\n",
    "#plt.plot(history_y)\n",
    "#plt.plot(d_x, d_y)\n",
    "#plt.show()\n",
    "\"\"\"\n",
    "plt.plot(history_x,history_y)\n",
    "plt.show()\n",
    "plt.plot(history_x,history_z)\n",
    "plt.show()\n",
    "plt.plot(history_y,history_z)\n",
    "plt.show()\"\"\"\n",
    "ax.plot(history_x, history_y, history_z, label='parametric curve')\n",
    "ax.legend()\n",
    "plt.show()"
   ]
  },
  {
   "cell_type": "markdown",
   "metadata": {
    "colab_type": "text",
    "id": "JjQP4CMH77NR"
   },
   "source": [
    "# Evolutionary algorithms."
   ]
  },
  {
   "cell_type": "code",
   "execution_count": 0,
   "metadata": {
    "colab": {
     "autoexec": {
      "startup": false,
      "wait_interval": 0
     }
    },
    "colab_type": "code",
    "id": "K-gKQYy58lAI"
   },
   "outputs": [],
   "source": [
    "def gen_rand_w():\n",
    "    w_1= (np.random.randn(20,6))*0\n",
    "    w_2 = (np.random.randn(20,21))*0\n",
    "  #  w_3 = (np.random.randn(10,11))\n",
    "  #  w_4 = (np.random.randn(15,16))\n",
    "  #  w_5 = (np.random.randn(15,16))\n",
    "  #  w_6 = (np.random.randn(15,16))\n",
    "    w_3 = (np.random.randn(3,21))*0\n",
    "    w=[]\n",
    "    w.append(w_1)\n",
    "    w.append(w_2)\n",
    "    w.append(w_3)\n",
    " #   w.append(w_4)\n",
    "#    w.append(w_5)\n",
    "#    w.append(w_6)\n",
    "#    w.append(w_7)\n",
    "    return w"
   ]
  },
  {
   "cell_type": "code",
   "execution_count": 0,
   "metadata": {
    "colab": {
     "autoexec": {
      "startup": false,
      "wait_interval": 0
     }
    },
    "colab_type": "code",
    "id": "9BgfG7YY8rJH"
   },
   "outputs": [],
   "source": [
    "def evolve_w(w, alpha):\n",
    "    \n",
    "    dir=copy.deepcopy(w)\n",
    "    dir[0]= (np.random.randn(20,6))*alpha\n",
    "    dir[1] = (np.random.randn(20,21))*alpha\n",
    "   # dir[2] += (np.random.randn(10,11))*alpha\n",
    "  #  w[3] += (np.random.randn(15,16))*alpha\n",
    "  #  w[4] += (np.random.randn(15,16))*alpha\n",
    "  #  w[5] += (np.random.randn(15,16))*alpha\n",
    "    dir[2] = (np.random.randn(3,21))*alpha\n",
    "    \n",
    "    w[0]+= dir[0]\n",
    "    w[1] += dir[1]\n",
    "  #  w[2] += (np.random.randn(10,11))*alpha\n",
    "  #  w[3] += (np.random.randn(15,16))*alpha\n",
    "  #  w[4] += (np.random.randn(15,16))*alpha\n",
    "  #  w[5] += (np.random.randn(15,16))*alpha\n",
    "    w[2] += dir[2]\n",
    "  #  w[3] += dir[3]\n",
    "    \n",
    "    dir_flat=[]\n",
    "    dir_flat=dir_flat+list(dir[0].flatten())\n",
    "    dir_flat=dir_flat+list(dir[1].flatten())\n",
    "    dir_flat=dir_flat+list(dir[2].flatten())\n",
    "  #  print(dir_flat)\n",
    "    return dir"
   ]
  },
  {
   "cell_type": "code",
   "execution_count": 0,
   "metadata": {
    "colab": {
     "autoexec": {
      "startup": false,
      "wait_interval": 0
     }
    },
    "colab_type": "code",
    "id": "g19FDADV8t04"
   },
   "outputs": [],
   "source": [
    "def feedf(x, w):\n",
    "    x=np.asarray(x)\n",
    "    x=np.append(x,1)\n",
    "    y=np.dot(w[0],x)\n",
    "    y=np.tanh(y)\n",
    "    y=np.append(y,1)\n",
    "    y2=np.dot(w[1],y)\n",
    "    y2=np.tanh(y2)\n",
    "    y2=np.append(y2,1)\n",
    "  \n",
    "    y3=np.dot(w[2],y2)\n",
    "    return y3"
   ]
  },
  {
   "cell_type": "markdown",
   "metadata": {
    "colab_type": "text",
    "id": "cgbMIKRg8w6v"
   },
   "source": [
    "# Training phase"
   ]
  },
  {
   "cell_type": "code",
   "execution_count": 0,
   "metadata": {
    "colab": {
     "autoexec": {
      "startup": false,
      "wait_interval": 0
     }
    },
    "colab_type": "code",
    "id": "olyd0MRw893v"
   },
   "outputs": [],
   "source": [
    "def run(w, clip=1, gain=0.0000001, wind=0):\n",
    "    import matplotlib as mpl\n",
    "    from mpl_toolkits.mplot3d import Axes3D\n",
    "\n",
    "\n",
    "    mpl.rcParams['legend.fontsize'] = 10\n",
    "\n",
    "    fig = plt.figure()\n",
    "    ax = fig.gca(projection='3d')\n",
    "\n",
    "    state=[0.,0.,0.,0.,0.,0.,0.,0.,0.,0.,0.,0.]\n",
    "    history_x=[]\n",
    "    history_y=[]\n",
    "    history_z=[]\n",
    "    d_z=0\n",
    "    d_zd=0.\n",
    "    d_x=10.\n",
    "    d_xd=0.\n",
    "    d_y=0.\n",
    "    d_yd=0.\n",
    "    goals=[]\n",
    "    time=[]\n",
    "    loss=0\n",
    "    for t in range(10*STEPS):\n",
    "        time.append(t)\n",
    "        inp=np.array([0.,0.,0.,0.])\n",
    "        d_phi=(0.05*(d_xd-state[3]) + 0.001*(d_x-state[0]))/G  #PD x che trova angolo\n",
    "        d_theta=(0.05*(d_yd-state[4]) + 0.001*(d_y-state[1]))/G\n",
    "      #  print(\"d phi\",d_phi)\n",
    "\n",
    "        inp[2]=0.01*(d_phi-state[7]) + 0.05*(-state[10]) + 0.2*(-state[7])  #PD ANGOLO y per muovere x\n",
    "        inp[1]=-0.01*(d_theta-state[6]) + 0.05*(-state[9]) + 0.2*(-state[6])  #PD ANGOLO x per muovere y. Cambio segno: angolo x positivo muove y neg\n",
    "     #   print(\"angular input\",inp[2])\n",
    "     #   print(\"angle\", state[7])\n",
    "\n",
    "        inp[0]=(G + 0.01*(-state[5]) + 0.05*(d_z - state[2])) #PD z, 0.5 and 0.5 gives great performance on both axis\n",
    "       \n",
    "        inp[0]+=gain*feedf([d_x-state[0],d_y - state[1], d_z - state[2], d_phi-state[6], d_theta-state[7]], w)[0]\n",
    "        inp[1]+=gain*feedf([d_x-state[0],d_y - state[1], d_z - state[2], d_phi-state[6], d_theta-state[7]], w)[1]\n",
    "        inp[2]+=gain*feedf([d_x-state[0],d_y - state[1], d_z - state[2], d_phi-state[6], d_theta-state[7]], w)[2]\n",
    "        \n",
    "        loss+=(d_y - state[1])**2  + (d_x-state[0])**2 + (d_z - state[2])**2 + 0.0*((-state[5])**2 + (-state[4])**2 + (-state[3])**2) + 0.1*(inp[0]**2 + inp[1]**2 + inp[2]**2)\n",
    "        state=dyn_model(state,inp)\n",
    "     #   print(\"state\",state[:3])\n",
    "        history_x.append(state[0])\n",
    "        history_y.append(state[1])\n",
    "        history_z.append(state[2])\n",
    "        if t is not 0 and t % 200 == 0:\n",
    "            goals.append((d_x,d_y))\n",
    "            ax.scatter(d_x,d_y, d_z, s=1, color=\"red\")\n",
    "         #   d_x += np.random.rand()*10 - 5\n",
    "         #   d_y += np.random.rand()*10 - 5\n",
    "            d_x= 10*cos(2*np.pi*t/(5*STEPS))\n",
    "            d_y= 10*sin(2*np.pi*t/(5*STEPS))\n",
    "            d_z+=10\n",
    "        if wind:\n",
    "          if t is not 0 and t % 50000 == 0:\n",
    "            state+=np.array([0,0,0,0,1,1,0,0,0,0,0,0]) #add a velocity for wind\n",
    "    #plt.plot(history_x)\n",
    "    #plt.plot(history_y)\n",
    "    #plt.plot(d_x, d_y)\n",
    "    #plt.show()\n",
    "    \"\"\"\n",
    "    plt.plot(history_x,history_y)\n",
    "    plt.show()\n",
    "    plt.plot(history_x,history_z)\n",
    "    plt.show()\n",
    "    plt.plot(history_y,history_z)\n",
    "    plt.show()\"\"\"\n",
    "    ax.plot(history_x, history_y, history_z, label='parametric curve')\n",
    "    ax.legend()\n",
    "    plt.show()\n",
    "    return loss"
   ]
  },
  {
   "cell_type": "code",
   "execution_count": 0,
   "metadata": {
    "colab": {
     "autoexec": {
      "startup": false,
      "wait_interval": 0
     }
    },
    "colab_type": "code",
    "id": "jox1ex2R9ZZn"
   },
   "outputs": [],
   "source": [
    "def train(start_from_zero=1, w_input=0, gain=0.0000001, wind=0):\n",
    "    if start_from_zero:\n",
    "        w=gen_rand_w()\n",
    "\n",
    "        w_try=gen_rand_w()\n",
    "        w_best=gen_rand_w()\n",
    "    else:\n",
    "        w_best=w_input\n",
    "    count=0\n",
    "\n",
    "    new=True\n",
    "    #    alpha=0.2\n",
    "    for alpha in (0.7,0.4,0.2,0.05):\n",
    "        for _ in range(0,20):\n",
    "            count+=1\n",
    "            print(\"new direction\")\n",
    "            w_try=copy.deepcopy(w_best)\n",
    "            if new:\n",
    "                loss1=run(w_try, clip=1, gain=gain, wind=wind)\n",
    "            print(\"loss 1: \" + str(loss1))\n",
    "\n",
    "\n",
    "            dir=evolve_w(w_try,alpha)\n",
    "            loss2=run(w_try, clip=1, gain=gain, wind=wind)\n",
    "\n",
    "            print(\"loss 2: \" + str(loss2))\n",
    "\n",
    "            diff=loss2-loss1\n",
    "            new=False\n",
    "            while diff<-1:\n",
    "                new=True\n",
    "                loss_min=loss2\n",
    "                count+=1\n",
    "                w_best=copy.deepcopy(w_try)\n",
    "                print(\"improve\")\n",
    "                loss1=loss2\n",
    "\n",
    "                w_try[0]+=dir[0]*0.33#*diff*0.05\n",
    "                w_try[1]+=dir[1]*0.33#*diff*0.05\n",
    "                w_try[2]+=dir[2]*0.33#*diff*0.05\n",
    "\n",
    "                loss2=run(w_try, clip=1, gain=gain, wind=wind)\n",
    "                diff=loss2-loss1\n",
    "\n",
    "                print(\"loss new: \" + str(loss2))\n",
    "    print(\"step totali: \" + str(count))\n",
    "    print(\"best loss: \" + str(loss_min) )\n",
    "    return w_best"
   ]
  },
  {
   "cell_type": "code",
   "execution_count": null,
   "metadata": {
    "colab": {
     "autoexec": {
      "startup": false,
      "wait_interval": 0
     },
     "base_uri": "https://localhost:8080/",
     "height": 44310,
     "output_extras": [
      {
       "item_id": 1
      },
      {
       "item_id": 2
      },
      {
       "item_id": 3
      },
      {
       "item_id": 4
      },
      {
       "item_id": 5
      },
      {
       "item_id": 6
      },
      {
       "item_id": 7
      },
      {
       "item_id": 8
      },
      {
       "item_id": 9
      },
      {
       "item_id": 10
      },
      {
       "item_id": 11
      },
      {
       "item_id": 12
      },
      {
       "item_id": 13
      },
      {
       "item_id": 14
      },
      {
       "item_id": 15
      },
      {
       "item_id": 16
      },
      {
       "item_id": 17
      },
      {
       "item_id": 18
      },
      {
       "item_id": 19
      },
      {
       "item_id": 20
      },
      {
       "item_id": 21
      },
      {
       "item_id": 22
      },
      {
       "item_id": 23
      },
      {
       "item_id": 24
      },
      {
       "item_id": 25
      },
      {
       "item_id": 26
      },
      {
       "item_id": 27
      },
      {
       "item_id": 28
      },
      {
       "item_id": 29
      },
      {
       "item_id": 30
      },
      {
       "item_id": 31
      },
      {
       "item_id": 32
      },
      {
       "item_id": 33
      },
      {
       "item_id": 34
      },
      {
       "item_id": 35
      },
      {
       "item_id": 36
      },
      {
       "item_id": 37
      },
      {
       "item_id": 38
      },
      {
       "item_id": 39
      },
      {
       "item_id": 40
      },
      {
       "item_id": 41
      },
      {
       "item_id": 42
      },
      {
       "item_id": 43
      },
      {
       "item_id": 44
      },
      {
       "item_id": 45
      },
      {
       "item_id": 46
      },
      {
       "item_id": 47
      },
      {
       "item_id": 48
      },
      {
       "item_id": 49
      },
      {
       "item_id": 50
      },
      {
       "item_id": 51
      },
      {
       "item_id": 52
      },
      {
       "item_id": 53
      },
      {
       "item_id": 54
      },
      {
       "item_id": 55
      },
      {
       "item_id": 56
      },
      {
       "item_id": 57
      },
      {
       "item_id": 58
      },
      {
       "item_id": 59
      },
      {
       "item_id": 60
      },
      {
       "item_id": 61
      },
      {
       "item_id": 62
      },
      {
       "item_id": 63
      },
      {
       "item_id": 64
      },
      {
       "item_id": 65
      },
      {
       "item_id": 66
      },
      {
       "item_id": 67
      },
      {
       "item_id": 68
      },
      {
       "item_id": 69
      },
      {
       "item_id": 70
      },
      {
       "item_id": 71
      },
      {
       "item_id": 72
      },
      {
       "item_id": 73
      },
      {
       "item_id": 74
      },
      {
       "item_id": 75
      },
      {
       "item_id": 76
      },
      {
       "item_id": 77
      },
      {
       "item_id": 78
      },
      {
       "item_id": 79
      },
      {
       "item_id": 80
      },
      {
       "item_id": 81
      },
      {
       "item_id": 82
      },
      {
       "item_id": 83
      },
      {
       "item_id": 84
      },
      {
       "item_id": 85
      },
      {
       "item_id": 86
      },
      {
       "item_id": 87
      },
      {
       "item_id": 88
      },
      {
       "item_id": 89
      },
      {
       "item_id": 90
      },
      {
       "item_id": 91
      },
      {
       "item_id": 92
      },
      {
       "item_id": 93
      },
      {
       "item_id": 94
      },
      {
       "item_id": 95
      },
      {
       "item_id": 96
      },
      {
       "item_id": 97
      },
      {
       "item_id": 98
      },
      {
       "item_id": 99
      },
      {
       "item_id": 100
      },
      {
       "item_id": 101
      },
      {
       "item_id": 102
      },
      {
       "item_id": 103
      },
      {
       "item_id": 104
      },
      {
       "item_id": 105
      },
      {
       "item_id": 106
      },
      {
       "item_id": 107
      },
      {
       "item_id": 108
      },
      {
       "item_id": 109
      },
      {
       "item_id": 110
      },
      {
       "item_id": 111
      },
      {
       "item_id": 112
      },
      {
       "item_id": 113
      },
      {
       "item_id": 114
      },
      {
       "item_id": 115
      },
      {
       "item_id": 116
      },
      {
       "item_id": 117
      },
      {
       "item_id": 118
      },
      {
       "item_id": 119
      },
      {
       "item_id": 120
      },
      {
       "item_id": 121
      },
      {
       "item_id": 122
      },
      {
       "item_id": 123
      },
      {
       "item_id": 124
      },
      {
       "item_id": 125
      },
      {
       "item_id": 126
      },
      {
       "item_id": 127
      },
      {
       "item_id": 128
      },
      {
       "item_id": 129
      },
      {
       "item_id": 130
      },
      {
       "item_id": 131
      },
      {
       "item_id": 132
      },
      {
       "item_id": 133
      },
      {
       "item_id": 134
      },
      {
       "item_id": 135
      },
      {
       "item_id": 136
      },
      {
       "item_id": 137
      },
      {
       "item_id": 138
      },
      {
       "item_id": 139
      },
      {
       "item_id": 140
      },
      {
       "item_id": 141
      },
      {
       "item_id": 142
      },
      {
       "item_id": 143
      },
      {
       "item_id": 144
      },
      {
       "item_id": 145
      },
      {
       "item_id": 146
      },
      {
       "item_id": 147
      },
      {
       "item_id": 148
      },
      {
       "item_id": 149
      },
      {
       "item_id": 150
      },
      {
       "item_id": 151
      },
      {
       "item_id": 152
      },
      {
       "item_id": 153
      },
      {
       "item_id": 154
      },
      {
       "item_id": 155
      },
      {
       "item_id": 156
      },
      {
       "item_id": 157
      },
      {
       "item_id": 158
      },
      {
       "item_id": 159
      },
      {
       "item_id": 160
      },
      {
       "item_id": 161
      },
      {
       "item_id": 162
      },
      {
       "item_id": 163
      },
      {
       "item_id": 164
      },
      {
       "item_id": 165
      },
      {
       "item_id": 166
      },
      {
       "item_id": 167
      },
      {
       "item_id": 168
      },
      {
       "item_id": 169
      },
      {
       "item_id": 170
      },
      {
       "item_id": 171
      },
      {
       "item_id": 172
      },
      {
       "item_id": 173
      },
      {
       "item_id": 174
      },
      {
       "item_id": 175
      },
      {
       "item_id": 176
      },
      {
       "item_id": 177
      },
      {
       "item_id": 178
      },
      {
       "item_id": 179
      },
      {
       "item_id": 180
      },
      {
       "item_id": 181
      },
      {
       "item_id": 182
      },
      {
       "item_id": 183
      },
      {
       "item_id": 184
      },
      {
       "item_id": 185
      },
      {
       "item_id": 186
      },
      {
       "item_id": 187
      },
      {
       "item_id": 188
      },
      {
       "item_id": 189
      },
      {
       "item_id": 190
      },
      {
       "item_id": 191
      },
      {
       "item_id": 192
      },
      {
       "item_id": 193
      },
      {
       "item_id": 194
      },
      {
       "item_id": 195
      },
      {
       "item_id": 196
      },
      {
       "item_id": 197
      },
      {
       "item_id": 198
      },
      {
       "item_id": 199
      },
      {
       "item_id": 200
      },
      {
       "item_id": 201
      },
      {
       "item_id": 202
      },
      {
       "item_id": 203
      },
      {
       "item_id": 204
      },
      {
       "item_id": 205
      },
      {
       "item_id": 206
      },
      {
       "item_id": 207
      },
      {
       "item_id": 208
      },
      {
       "item_id": 209
      },
      {
       "item_id": 210
      },
      {
       "item_id": 211
      },
      {
       "item_id": 212
      },
      {
       "item_id": 213
      },
      {
       "item_id": 214
      },
      {
       "item_id": 215
      },
      {
       "item_id": 216
      },
      {
       "item_id": 217
      },
      {
       "item_id": 218
      },
      {
       "item_id": 219
      },
      {
       "item_id": 220
      },
      {
       "item_id": 221
      },
      {
       "item_id": 222
      },
      {
       "item_id": 223
      },
      {
       "item_id": 224
      },
      {
       "item_id": 225
      },
      {
       "item_id": 226
      },
      {
       "item_id": 227
      },
      {
       "item_id": 228
      },
      {
       "item_id": 229
      },
      {
       "item_id": 230
      },
      {
       "item_id": 231
      },
      {
       "item_id": 232
      },
      {
       "item_id": 233
      },
      {
       "item_id": 234
      },
      {
       "item_id": 235
      },
      {
       "item_id": 236
      },
      {
       "item_id": 237
      },
      {
       "item_id": 238
      },
      {
       "item_id": 239
      },
      {
       "item_id": 240
      },
      {
       "item_id": 241
      },
      {
       "item_id": 242
      },
      {
       "item_id": 243
      },
      {
       "item_id": 244
      },
      {
       "item_id": 245
      },
      {
       "item_id": 246
      },
      {
       "item_id": 247
      },
      {
       "item_id": 248
      },
      {
       "item_id": 249
      },
      {
       "item_id": 250
      },
      {
       "item_id": 251
      }
     ]
    },
    "colab_type": "code",
    "executionInfo": {
     "elapsed": 2293376,
     "status": "ok",
     "timestamp": 1517873615375,
     "user": {
      "displayName": "Norman Di Palo",
      "photoUrl": "//lh5.googleusercontent.com/-hwpkiYzSctg/AAAAAAAAAAI/AAAAAAAAAkg/I59DXttMdKw/s50-c-k-no/photo.jpg",
      "userId": "109405231849327541723"
     },
     "user_tz": -60
    },
    "id": "NN0i4fBLA8Sk",
    "outputId": "a90adc95-d116-4557-8695-0d7034b30ec9"
   },
   "outputs": [],
   "source": [
    "w_b2=train(start_from_zero=1, gain=0.0000003, wind=1)"
   ]
  },
  {
   "cell_type": "code",
   "execution_count": null,
   "metadata": {
    "colab": {
     "autoexec": {
      "startup": false,
      "wait_interval": 0
     },
     "base_uri": "https://localhost:8080/",
     "height": 347,
     "output_extras": [
      {
       "item_id": 1
      },
      {
       "item_id": 2
      }
     ]
    },
    "colab_type": "code",
    "executionInfo": {
     "elapsed": 16782,
     "status": "ok",
     "timestamp": 1517856253648,
     "user": {
      "displayName": "Norman Di Palo",
      "photoUrl": "//lh5.googleusercontent.com/-hwpkiYzSctg/AAAAAAAAAAI/AAAAAAAAAkg/I59DXttMdKw/s50-c-k-no/photo.jpg",
      "userId": "109405231849327541723"
     },
     "user_tz": -60
    },
    "id": "FDX_JSEr-uQz",
    "outputId": "65e19598-fb5e-41d0-9893-6802047deb95"
   },
   "outputs": [],
   "source": [
    "run(clip=1,w=gen_rand_w(), wind=1)"
   ]
  },
  {
   "cell_type": "code",
   "execution_count": 0,
   "metadata": {
    "colab": {
     "autoexec": {
      "startup": false,
      "wait_interval": 0
     }
    },
    "colab_type": "code",
    "id": "uESBRqAq-1hv"
   },
   "outputs": [],
   "source": []
  },
  {
   "cell_type": "code",
   "execution_count": 0,
   "metadata": {
    "colab": {
     "autoexec": {
      "startup": false,
      "wait_interval": 0
     }
    },
    "colab_type": "code",
    "id": "gxbfM1kz-xSD"
   },
   "outputs": [],
   "source": []
  }
 ],
 "metadata": {
  "colab": {
   "default_view": {},
   "name": "space_drone.ipynb",
   "provenance": [],
   "version": "0.3.2",
   "views": {}
  },
  "kernelspec": {
   "display_name": "Python 3",
   "language": "python",
   "name": "python3"
  },
  "language_info": {
   "codemirror_mode": {
    "name": "ipython",
    "version": 3
   },
   "file_extension": ".py",
   "mimetype": "text/x-python",
   "name": "python",
   "nbconvert_exporter": "python",
   "pygments_lexer": "ipython3",
   "version": "3.5.4"
  }
 },
 "nbformat": 4,
 "nbformat_minor": 1
}
